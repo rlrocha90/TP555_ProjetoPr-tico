{
  "cells": [
    {
      "cell_type": "markdown",
      "metadata": {
        "id": "view-in-github",
        "colab_type": "text"
      },
      "source": [
        "<a href=\"https://colab.research.google.com/github/rlrocha90/TP555_projeto_final/blob/main/hasTests.ipynb\" target=\"_parent\"><img src=\"https://colab.research.google.com/assets/colab-badge.svg\" alt=\"Open In Colab\"/></a>"
      ]
    },
    {
      "cell_type": "code",
      "source": [
        "from PIL import Image"
      ],
      "metadata": {
        "id": "ODdKjRO3jrJg"
      },
      "execution_count": 1,
      "outputs": []
    },
    {
      "cell_type": "code",
      "source": [
        "!pip install imagehash"
      ],
      "metadata": {
        "colab": {
          "base_uri": "https://localhost:8080/"
        },
        "id": "uDcsePSrlF1T",
        "outputId": "c8d90bed-0071-46ea-8703-f800984056a8"
      },
      "execution_count": 4,
      "outputs": [
        {
          "output_type": "stream",
          "name": "stdout",
          "text": [
            "Collecting imagehash\n",
            "  Downloading ImageHash-4.3.1-py2.py3-none-any.whl (296 kB)\n",
            "\u001b[2K     \u001b[90m━━━━━━━━━━━━━━━━━━━━━━━━━━━━━━━━━━━━━━━\u001b[0m \u001b[32m296.5/296.5 kB\u001b[0m \u001b[31m5.5 MB/s\u001b[0m eta \u001b[36m0:00:00\u001b[0m\n",
            "\u001b[?25hRequirement already satisfied: PyWavelets in /usr/local/lib/python3.10/dist-packages (from imagehash) (1.4.1)\n",
            "Requirement already satisfied: numpy in /usr/local/lib/python3.10/dist-packages (from imagehash) (1.23.5)\n",
            "Requirement already satisfied: pillow in /usr/local/lib/python3.10/dist-packages (from imagehash) (9.4.0)\n",
            "Requirement already satisfied: scipy in /usr/local/lib/python3.10/dist-packages (from imagehash) (1.11.3)\n",
            "Installing collected packages: imagehash\n",
            "Successfully installed imagehash-4.3.1\n"
          ]
        }
      ]
    },
    {
      "cell_type": "code",
      "source": [
        "import imagehash\n",
        "from scipy.spatial.distance import hamming"
      ],
      "metadata": {
        "id": "_lA3h573lPFy"
      },
      "execution_count": 36,
      "outputs": []
    },
    {
      "cell_type": "code",
      "source": [
        "bsv01 = Image.open('/content/BSV01.png')\n",
        "bsv02 = Image.open('/content/BSV02.png')\n",
        "bsv03 = Image.open('/content/BSV03.png')\n",
        "fsv01 = Image.open('/content/FSV01.png')\n",
        "fsv02 = Image.open('/content/FSV02.png')\n",
        "fsv03 = Image.open('/content/FSV03.png')"
      ],
      "metadata": {
        "id": "ncvlON0krSou"
      },
      "execution_count": 29,
      "outputs": []
    },
    {
      "cell_type": "code",
      "source": [
        "print(\"Average Hash - Boat Side View\")\n",
        "hash1 = imagehash.average_hash(bsv01)\n",
        "print(hash1)\n",
        "hash2 = imagehash.average_hash(bsv02)\n",
        "print(hash2)\n",
        "hash3 = imagehash.average_hash(bsv03)\n",
        "print(hash3)\n",
        "HDis12 = hash1 - hash2\n",
        "print(HDis12)\n",
        "HDis13 = hash1 - hash3\n",
        "print(HDis13)\n",
        "HDis23 = hash2 - hash3\n",
        "print(HDis23)"
      ],
      "metadata": {
        "colab": {
          "base_uri": "https://localhost:8080/"
        },
        "id": "wIdzeRy4lUwL",
        "outputId": "b44cf3c9-d900-416f-fb82-3f1e586b610f"
      },
      "execution_count": 39,
      "outputs": [
        {
          "output_type": "stream",
          "name": "stdout",
          "text": [
            "Average Hash - Boat Side View\n",
            "ffffdfff160080fe\n",
            "fffffdef1e040080\n",
            "ffdfffe5b6140000\n",
            "1.5\n",
            "17\n",
            "9\n"
          ]
        }
      ]
    },
    {
      "cell_type": "code",
      "source": [
        "print(\"Average Hash - Front Side View\")\n",
        "hash01 = imagehash.average_hash(Image.open('/content/FSV01.png'))\n",
        "print(hash01)\n",
        "hash02 = imagehash.average_hash(Image.open('/content/FSV02.png'))\n",
        "print(hash02)\n",
        "hash03 = imagehash.average_hash(Image.open('/content/FSV03.png'))\n",
        "print(hash03)\n",
        "HDis012 = hash01 - hash02\n",
        "print(HDis012)\n",
        "HDis013 = hash01 - hash03\n",
        "print(HDis013)\n",
        "HDis023 = hash02 - hash03\n",
        "print(HDis023)"
      ],
      "metadata": {
        "colab": {
          "base_uri": "https://localhost:8080/"
        },
        "id": "ozxAptNamhNn",
        "outputId": "5849d4a6-44c2-4a22-f9cc-2858a56b30b9"
      },
      "execution_count": 33,
      "outputs": [
        {
          "output_type": "stream",
          "name": "stdout",
          "text": [
            "Average Hash - Front Side View\n",
            "ffffffffff000000\n",
            "fffffffff7000080\n",
            "ffffffff30000080\n",
            "2\n",
            "7\n",
            "5\n"
          ]
        }
      ]
    },
    {
      "cell_type": "code",
      "source": [
        "print(\"Average Hash - Boat to Front Side View\")\n",
        "HDis11 = hash1 - hash01\n",
        "print(HDis11)\n",
        "HDis22 = hash2 - hash02\n",
        "print(HDis22)\n",
        "HDis33 = hash3 - hash03\n",
        "print(HDis33)"
      ],
      "metadata": {
        "colab": {
          "base_uri": "https://localhost:8080/"
        },
        "id": "CaGpmNDTmvAw",
        "outputId": "7d905380-f4c0-46c1-ce50-30a406366cf4"
      },
      "execution_count": 35,
      "outputs": [
        {
          "output_type": "stream",
          "name": "stdout",
          "text": [
            "Average Hash - Boat to Front Side View\n",
            "14\n",
            "8\n",
            "10\n"
          ]
        }
      ]
    },
    {
      "cell_type": "code",
      "source": [
        "print(\"p Hash - Boat Side View\")\n",
        "hash1 = imagehash.phash(Image.open('/content/BSV01.png'))\n",
        "print(hash1)\n",
        "hash2 = imagehash.phash(Image.open('/content/BSV02.png'))\n",
        "print(hash2)\n",
        "hash3 = imagehash.phash(Image.open('/content/BSV03.png'))\n",
        "print(hash3)\n",
        "HDis12 = hash1 - hash2\n",
        "print(HDis12)\n",
        "HDis13 = hash1 - hash3\n",
        "print(HDis13)\n",
        "HDis23 = hash2 - hash3\n",
        "print(HDis23)"
      ],
      "metadata": {
        "colab": {
          "base_uri": "https://localhost:8080/"
        },
        "id": "Anr_jswInnrG",
        "outputId": "484d597d-805f-433e-d92f-4206bee4d848"
      },
      "execution_count": 16,
      "outputs": [
        {
          "output_type": "stream",
          "name": "stdout",
          "text": [
            "p Hash - Boat Side View\n",
            "9e80ef0f847b910f\n",
            "9e88fd9cf06b0a43\n",
            "bab1f984e3450774\n",
            "20\n",
            "32\n",
            "24\n"
          ]
        }
      ]
    },
    {
      "cell_type": "code",
      "source": [
        "print(\"pHash - Front Side View\")\n",
        "hash01 = imagehash.phash(Image.open('/content/FSV01.png'))\n",
        "print(hash01)\n",
        "hash02 = imagehash.phash(Image.open('/content/FSV02.png'))\n",
        "print(hash02)\n",
        "hash03 = imagehash.phash(Image.open('/content/FSV03.png'))\n",
        "print(hash03)\n",
        "HDis012 = hash01 - hash02\n",
        "print(HDis012)\n",
        "HDis013 = hash01 - hash03\n",
        "print(HDis013)\n",
        "HDis023 = hash02 - hash03\n",
        "print(HDis023)"
      ],
      "metadata": {
        "colab": {
          "base_uri": "https://localhost:8080/"
        },
        "id": "QWhhaactn2iZ",
        "outputId": "65decefb-4b69-425a-ad43-bc7a77af477b"
      },
      "execution_count": 17,
      "outputs": [
        {
          "output_type": "stream",
          "name": "stdout",
          "text": [
            "pHash - Front Side View\n",
            "ea957a02ad374bd0\n",
            "ee817b10ed334dc2\n",
            "e6897b16adb34c42\n",
            "12\n",
            "16\n",
            "8\n"
          ]
        }
      ]
    },
    {
      "cell_type": "code",
      "source": [
        "print(\"pHash - Boat to Front Side View\")\n",
        "HDis11 = hash1 - hash01\n",
        "print(HDis11)\n",
        "HDis22 = hash2 - hash02\n",
        "print(HDis22)\n",
        "HDis33 = hash3 - hash03\n",
        "print(HDis33)"
      ],
      "metadata": {
        "colab": {
          "base_uri": "https://localhost:8080/"
        },
        "id": "jNg760kln-mk",
        "outputId": "102ce11d-e0a4-4b4d-93b8-40f60c508b37"
      },
      "execution_count": 18,
      "outputs": [
        {
          "output_type": "stream",
          "name": "stdout",
          "text": [
            "pHash - Boat to Front Side View\n",
            "32\n",
            "24\n",
            "30\n"
          ]
        }
      ]
    }
  ],
  "metadata": {
    "colab": {
      "provenance": [],
      "authorship_tag": "ABX9TyPmLNkpdwltipy5zXnynRx2",
      "include_colab_link": true
    },
    "kernelspec": {
      "display_name": "Python 3",
      "name": "python3"
    },
    "language_info": {
      "name": "python"
    }
  },
  "nbformat": 4,
  "nbformat_minor": 0
}