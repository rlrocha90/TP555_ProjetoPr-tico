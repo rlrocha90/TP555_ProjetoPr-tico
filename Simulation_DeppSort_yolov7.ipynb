{
  "nbformat": 4,
  "nbformat_minor": 0,
  "metadata": {
    "colab": {
      "provenance": [],
      "authorship_tag": "ABX9TyPpJFla+q4M6NRMwzIkz9H2",
      "include_colab_link": true
    },
    "kernelspec": {
      "name": "python3",
      "display_name": "Python 3"
    },
    "language_info": {
      "name": "python"
    }
  },
  "cells": [
    {
      "cell_type": "markdown",
      "metadata": {
        "id": "view-in-github",
        "colab_type": "text"
      },
      "source": [
        "<a href=\"https://colab.research.google.com/github/rlrocha90/TP555_projeto_final/blob/main/Simulation_DeppSort_yolov7.ipynb\" target=\"_parent\"><img src=\"https://colab.research.google.com/assets/colab-badge.svg\" alt=\"Open In Colab\"/></a>"
      ]
    },
    {
      "cell_type": "code",
      "execution_count": null,
      "metadata": {
        "id": "6g299o8OaVJX"
      },
      "outputs": [],
      "source": [
        "!git clone https://github.com/deshwalmahesh/yolov7-deepsort-tracking\n",
        "%cd yolov7-deepsort-tracking\n",
        "\n",
        "!wget https://github.com/WongKinYiu/yolov7/releases/download/v0.1/yolov7x.pt"
      ]
    },
    {
      "cell_type": "code",
      "source": [
        "from detection_helpers import *\n",
        "from tracking_helpers import *\n",
        "from  bridge_wrapper import *\n",
        "from PIL import Image"
      ],
      "metadata": {
        "id": "ZhtAPSxkaYiS"
      },
      "execution_count": null,
      "outputs": []
    },
    {
      "cell_type": "code",
      "source": [
        "detector = Detector(classes = None) # it'll detect ONLY [person,horses,sports ball]. class = None means detect all classes. List info at: \"data/coco.yaml\"\n",
        "detector.load_model('./yolov7x.pt',) # pass the path to the trained weight file\n",
        "\n",
        "\n",
        "# Pass in any image path or Numpy Image using 'BGR' format\n",
        "result = detector.detect('./IO_data/input/images/horses.jpg', plot_bb = True) # plot_bb = False output the predictions as [x,y,w,h, confidence, class]\n",
        "\n",
        "\n",
        "if len(result.shape) == 3:# If it is image, convert it to proper image. detector will give \"BGR\" image\n",
        "    result = Image.fromarray(cv2.cvtColor(result,cv2.COLOR_BGR2RGB)) \n",
        "    \n",
        "result"
      ],
      "metadata": {
        "id": "IK37HjYjaask"
      },
      "execution_count": null,
      "outputs": []
    },
    {
      "cell_type": "code",
      "source": [
        "# Initialise  class that binds detector and tracker in one class\n",
        "tracker = YOLOv7_DeepSORT(reID_model_path=\"./deep_sort/model_weights/mars-small128.pb\", detector=detector)\n",
        "\n",
        "# output = None will not save the output video\n",
        "tracker.track_video(\"./IO_data/input/video/Teste1.mp4\", output=\"./IO_data/output/Teste1.avi\", show_live = False, skip_frames = 0, count_objects = True, verbose=1)"
      ],
      "metadata": {
        "id": "LSZCFFV5adPO"
      },
      "execution_count": null,
      "outputs": []
    }
  ]
}