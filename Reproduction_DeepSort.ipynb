{
  "nbformat": 4,
  "nbformat_minor": 0,
  "metadata": {
    "colab": {
      "provenance": [],
      "authorship_tag": "ABX9TyMZQBcQ8FzFJkRO5FJuIO8e",
      "include_colab_link": true
    },
    "kernelspec": {
      "name": "python3",
      "display_name": "Python 3"
    },
    "language_info": {
      "name": "python"
    },
    "accelerator": "GPU",
    "gpuClass": "standard"
  },
  "cells": [
    {
      "cell_type": "markdown",
      "metadata": {
        "id": "view-in-github",
        "colab_type": "text"
      },
      "source": [
        "<a href=\"https://colab.research.google.com/github/rlrocha90/TP555_projeto_final/blob/main/Reproduction_DeepSort.ipynb\" target=\"_parent\"><img src=\"https://colab.research.google.com/assets/colab-badge.svg\" alt=\"Open In Colab\"/></a>"
      ]
    },
    {
      "cell_type": "code",
      "execution_count": null,
      "metadata": {
        "id": "nXFYe6T6RFHU"
      },
      "outputs": [],
      "source": [
        "!git clone https://github.com/theAIGuysCode/yolov4-deepsort"
      ]
    },
    {
      "cell_type": "code",
      "source": [
        "%cd yolov4-deepsort/"
      ],
      "metadata": {
        "id": "bYkFNzFRZpib"
      },
      "execution_count": null,
      "outputs": []
    },
    {
      "cell_type": "code",
      "source": [
        "!sudo update-alternatives --config python3\n",
        "#ESCOLHER OPÇÃO 2!\n",
        "!sudo apt install python3-pip"
      ],
      "metadata": {
        "id": "mJiSHf8VZtdE"
      },
      "execution_count": null,
      "outputs": []
    },
    {
      "cell_type": "code",
      "source": [
        "! pip install tensorflow==2.3.0\n",
        "!pip install protobuf==3.19.6\n",
        "!pip install certifi==2022.12.7\n",
        "!pip install idna==2.10\n",
        "!pip install tensorboard==2.9.1\n",
        "!pip install tensorboard_data_server==0.6.1\n",
        "!pip install requests==2.25.1\n",
        "!pip install easydict\n",
        "!pip install opencv-python\n",
        "!pip install numpy==1.23.4\n",
        "!pip install Pillow\n",
        "!pip install matplotlib"
      ],
      "metadata": {
        "id": "JU3iU1o-Zzhr"
      },
      "execution_count": null,
      "outputs": []
    },
    {
      "cell_type": "code",
      "source": [
        "!wget https://github.com/AlexeyAB/darknet/releases/download/darknet_yolo_v3_optimal/yolov4.weights -P data/"
      ],
      "metadata": {
        "id": "g0mUGiELaI0n"
      },
      "execution_count": null,
      "outputs": []
    },
    {
      "cell_type": "code",
      "source": [
        "!python save_model.py --model yolov4"
      ],
      "metadata": {
        "id": "UdmUu7gzbIGP"
      },
      "execution_count": null,
      "outputs": []
    },
    {
      "cell_type": "code",
      "source": [
        "!python object_tracker.py --video ./data/video/Teste1.mp4 --output ./outputs/tracker1.avi --model yolov4 --dont_show --info"
      ],
      "metadata": {
        "id": "h3S1yQQLphF3"
      },
      "execution_count": null,
      "outputs": []
    },
    {
      "cell_type": "code",
      "source": [
        "# define helper function to display videos\n",
        "import io \n",
        "from IPython.display import HTML\n",
        "from base64 import b64encode\n",
        "def show_video(file_name, width=640):\n",
        "  # show resulting deepsort video\n",
        "  mp4 = open(file_name,'rb').read()\n",
        "  data_url = \"data:video/mp4;base64,\" + b64encode(mp4).decode()\n",
        "  return HTML(\"\"\"\n",
        "  <video width=\"{0}\" controls>\n",
        "        <source src=\"{1}\" type=\"video/mp4\">\n",
        "  </video>\n",
        "  \"\"\".format(width, data_url))"
      ],
      "metadata": {
        "id": "FjVRCEzbuCK1"
      },
      "execution_count": null,
      "outputs": []
    },
    {
      "cell_type": "code",
      "source": [
        "# convert resulting video from avi to mp4 file format\n",
        "import os\n",
        "path_video = os.path.join(\"outputs\",\"tracker1.avi\")\n",
        "%cd outputs/\n",
        "!ffmpeg -y -loglevel panic -i tracker.avi output.mp4\n",
        "%cd ..\n",
        "\n",
        "# output object tracking video\n",
        "path_output = os.path.join(\"outputs\",\"tracker1.mp4\")\n",
        "show_video(path_output, width=960)"
      ],
      "metadata": {
        "id": "wFyUvzktuFNR"
      },
      "execution_count": null,
      "outputs": []
    }
  ]
}